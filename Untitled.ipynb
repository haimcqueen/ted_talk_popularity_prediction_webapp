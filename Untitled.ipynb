{
 "cells": [
  {
   "cell_type": "code",
   "execution_count": 2,
   "id": "caabbb04-dad3-436c-b1d7-db983506c8a1",
   "metadata": {},
   "outputs": [
    {
     "name": "stdin",
     "output_type": "stream",
     "text": [
      "Insert the tags here:      climate change     animals     environment     biology     genetics     synthetic biology     conservation     biotech\n"
     ]
    }
   ],
   "source": [
    "tags = input('Insert the tags here: ')"
   ]
  },
  {
   "cell_type": "code",
   "execution_count": 3,
   "id": "dd100cc2-dddb-4485-b4fc-b4d627761dbe",
   "metadata": {},
   "outputs": [
    {
     "data": {
      "text/plain": [
       "'    climate change     animals     environment     biology     genetics     synthetic biology     conservation     biotech'"
      ]
     },
     "execution_count": 3,
     "metadata": {},
     "output_type": "execute_result"
    }
   ],
   "source": [
    "tags"
   ]
  },
  {
   "cell_type": "code",
   "execution_count": 14,
   "id": "0746f212-479f-44cb-a644-7b1c7cbfa1f9",
   "metadata": {},
   "outputs": [
    {
     "data": {
      "text/plain": [
       "'    climate change     animals     environment     biology     genetics     synthetic biology     conservation     biotech'"
      ]
     },
     "execution_count": 14,
     "metadata": {},
     "output_type": "execute_result"
    }
   ],
   "source": [
    "for i in range(len(X_tags)):\n",
    "  X_tags[i] = [j.replace(\" \", \"_\") for j in X_tags[i]]\n",
    "  X_tags[i] = ' '.join(X_tags[i])"
   ]
  },
  {
   "cell_type": "code",
   "execution_count": 33,
   "id": "6c49a127-8beb-4c72-9f43-95a99adbb3e9",
   "metadata": {},
   "outputs": [],
   "source": [
    "tags_test = tags\n",
    "tags_test = tags_test + '   johnny cash'\n",
    "#tags_test = tags_test.replace(tags_test[11], '_')"
   ]
  },
  {
   "cell_type": "code",
   "execution_count": 29,
   "id": "fca1af79-5530-4b19-8a61-7deb09b9ed75",
   "metadata": {
    "jupyter": {
     "source_hidden": true
    },
    "tags": []
   },
   "outputs": [
    {
     "name": "stdout",
     "output_type": "stream",
     "text": [
      "11 c\n",
      "85 b\n"
     ]
    }
   ],
   "source": [
    "def tags_cleaner(tags):\n",
    "    tags_list = list(tags)\n",
    "    for i in range(len(tags_list)):\n",
    "        if tags[i] == ' ' and tags[i+1] != ' ' and tags[i-1] != ' ':\n",
    "            print(i, tags[i+1])"
   ]
  },
  {
   "cell_type": "code",
   "execution_count": 44,
   "id": "b6ddd468-9d96-45e2-87a3-6339d7b15878",
   "metadata": {},
   "outputs": [
    {
     "name": "stdout",
     "output_type": "stream",
     "text": [
      "11 c\n",
      "85 b\n",
      "climate_change\n",
      "animals\n",
      "environment\n",
      "biology\n",
      "genetics\n",
      "synthetic_biology\n",
      "conservation\n",
      "biotech\n"
     ]
    }
   ],
   "source": [
    "tags_list = list(tags)\n",
    "for i in range(len(tags_list)):\n",
    "    if tags_list[i] == ' ' and tags_list[i+1] != ' ' and tags_list[i-1] != ' ':\n",
    "        print(i, tags_list[i+1])\n",
    "        tags_list[i] = '_'\n",
    "tags_list = ''.join(tags_list)\n",
    "tags_list = tags_list.lower().split()\n",
    "for i in tags_list:\n",
    "    print(i)"
   ]
  },
  {
   "cell_type": "code",
   "execution_count": 49,
   "id": "212fff86-8fe3-4696-beb6-3d7382ea86ad",
   "metadata": {},
   "outputs": [],
   "source": [
    "def clean_tags(tags):\n",
    "    tags_list = list(tags)\n",
    "    for i in range(len(tags_list)):\n",
    "        if tags_list[i] == ' ' and tags_list[i+1] != ' ' and tags_list[i-1] != ' ':\n",
    "            tags_list[i] = '_'\n",
    "    tags_list = ''.join(tags_list)\n",
    "    tags_list = tags_list.lower().split()\n",
    "    for i in tags_list:\n",
    "        print(i)\n",
    "    return tags_list"
   ]
  },
  {
   "cell_type": "code",
   "execution_count": 50,
   "id": "5ab87178-f387-4b6a-8a30-aaab12888238",
   "metadata": {},
   "outputs": [
    {
     "data": {
      "text/plain": [
       "'    climate change     animals     environment     biology     genetics     synthetic biology     conservation     biotech   johnny cash'"
      ]
     },
     "execution_count": 50,
     "metadata": {},
     "output_type": "execute_result"
    }
   ],
   "source": [
    "tags_test"
   ]
  },
  {
   "cell_type": "code",
   "execution_count": 52,
   "id": "85e55a01-5b87-42e3-b7ed-9d612374126e",
   "metadata": {},
   "outputs": [
    {
     "name": "stdout",
     "output_type": "stream",
     "text": [
      "climate_change\n",
      "animals\n",
      "environment\n",
      "biology\n",
      "genetics\n",
      "synthetic_biology\n",
      "conservation\n",
      "biotech\n",
      "johnny_cash\n"
     ]
    }
   ],
   "source": [
    "tags_cleaned = clean_tags(tags_test)"
   ]
  },
  {
   "cell_type": "code",
   "execution_count": 53,
   "id": "8860826a-8fc6-48b0-a319-cb8d995e908e",
   "metadata": {},
   "outputs": [
    {
     "data": {
      "text/plain": [
       "['climate_change',\n",
       " 'animals',\n",
       " 'environment',\n",
       " 'biology',\n",
       " 'genetics',\n",
       " 'synthetic_biology',\n",
       " 'conservation',\n",
       " 'biotech',\n",
       " 'johnny_cash']"
      ]
     },
     "execution_count": 53,
     "metadata": {},
     "output_type": "execute_result"
    }
   ],
   "source": [
    "tags_cleaned"
   ]
  },
  {
   "cell_type": "code",
   "execution_count": 12,
   "id": "c158c975-15c3-49b3-8619-abcae5b792d3",
   "metadata": {},
   "outputs": [
    {
     "data": {
      "text/plain": [
       "'be test sentence here come one go be piece cheese fridge'"
      ]
     },
     "execution_count": 12,
     "metadata": {},
     "output_type": "execute_result"
    }
   ],
   "source": [
    "import spacy\n",
    "nlp = spacy.load('en_core_web_md', disable=['parser', 'ner'])\n",
    "\n",
    "def clean_text(text):\n",
    "    '''reduce text to lower-case lexicon entry'''\n",
    "    lemmas = [token.lemma_ for token in nlp(text) \n",
    "              if token.pos_ in {'NOUN', 'VERB', 'ADJ', 'ADV', 'PROPN'}]\n",
    "    return ' '.join(lemmas)\n",
    "\n",
    "clean_text('This is a test sentence. And here comes another one... Go me! \\nThere are 24 pieces of cheese in the fridge. ')"
   ]
  },
  {
   "cell_type": "code",
   "execution_count": 126,
   "id": "63476e72-30a0-4c35-aaeb-2e6529dc43a8",
   "metadata": {},
   "outputs": [],
   "source": [
    "example_keynote = \"\"\"Meet Elizabeth Ann. She's a black-footed ferret, America's most endangered animal. She was cloned using cells from a ferret that lived 33 years ago. Elizabeth Ann is a new hope for the future of her species, a chance to actually restore lost genetic diversity. She was born for this intended consequence. \n",
    "\n",
    "I've been working in conservation for the last 10 years with innovative scientists from around the world to bring biotechnology to wildlife conservation. We need to solve the escalating threats to biodiversity from climate change, habitat loss, fragmented populations and wildlife diseases. These are the unintended consequences of the human-dominated time we live in. A time when we need new tools for the conservation toolbox and with genetic rescue, we can actually help stop more species from crossing the line into extinction. And the black-footed ferret is a great example. \n",
    "\n",
    "The black footed-ferret historically ranged all across the Great Plains of North America, from Canada to Mexico. That is, until their habitat was converted to ranches and farmland. By 1981, there was only one colony of ferrets living in Wyoming. They were brought into captivity, and the US Fish and Wildlife Service has successfully been breeding and releasing these individuals back into the wild for the last 30 years. \n",
    "\n",
    "But all 600 living ferrets today are the descendants of just seven ancestors. And with inbreeding that jeopardizes their long-term survival in the wild. To solve this challenge of a lack of genetic variation, we reached back in time. Luckily, scientists had the foresight. Starting in 1975, Dr. Oliver Ryder and his team at the San Diego Zoo started banking endangered species, and it was with one of these cell lines that we were able to actually bring in a new individual who lived 33 years ago, who had unique genetic variation. Elizabeth Ann is a result of that cloning. She has three times more genetic variation than any living ferret today. And when she breeds in the next couple of years, her offspring will help create greater resilience for her species. \n",
    "\n",
    "Now Elizabeth Ann isn't the only time that we've done cloning. We’ve worked with the Przewalski’s horses. These are the only true species of wild horse remaining in the world. Historically, they were native to Central Asia, but they roamed all the way from the Pacific to the Atlantic Ocean for centuries. Until they were basically extinct in the wild, with only several horses left in captivity. Conservationists have reintroduced some of those horses since 1960, back into the wild. But all 2,000 horses all living today are again at risk of inbreeding. And many scientists refer to this challenge as the extinction vortex, when small, fragmented populations lose genetic variation and become at risk for the vortex of extinction as their populations dwindle. \n",
    "\n",
    "Now, with genetic rescue, we can reverse this extinction vortex by bringing a new genetic variation and increasing the long-term survival of these populations. And that’s exactly what we did with this Przewalski’s foal named Kurt. That's actually his surrogate mother to the right. She's an American Quarter Horse, a different species. But Kurt's genome is all wild horse. Now, here's Kurt, exactly one year later, this August. He's a wild, healthy, vibrant Przewalski's horse. \n",
    "\n",
    "Now, these genetic rescue stories could not have happened without the collaboration of multiple partners and the tools of biotechnology. Fundamental to all of this is the most essential tool, is genomic sequencing and the power of bringing that information into the light to help the management of these species. In addition, the bio banking, the cell culturing and the in vitro technologies have made this kind of genetic rescue possible. But even these technologies are not widely adopted by conservation. We hope to change that. \n",
    "\n",
    "Emerging technologies of genetic engineering hold the promise of helping species adapt to climate change, solve wildlife disease problems, and even help solve invasive species problems. But very often these technologies never get out of the starting gate because the fear of unintended consequences absolutely stymies even the most basic innovation at the get-go. \n",
    "\n",
    "Probably there's no more urgent need to overcome some of this reluctance to use these technologies than in the case of coral. Coral, as many of you know, are the most diverse and rich ecosystems in the world. They provide a rich biodiversity for reef-dwelling fish and all ocean life. And yet, sadly, 50 percent of the Great Barrier Reef has been lost already to climate change and environmental degradation. Estimates predicts that by 2050, we could lose as much as 90 percent of the coral in the world. \n",
    "\n",
    "There is hope. Scientists around the world are utilizing new technologies to cryopreserve even living coral fragments that can be transplanted onto artificial reefs. This is just the beginning of some of the work that is pioneering and can happen. I'm most excited about the use of the new technologies for developing stem cells. Now these stem cells could be used to actually genome edit in thermal resilience to warming oceans. \n",
    "\n",
    "Now, you may be looking at that and saying, \"Genetically modified corals? What about the unintended consequences?\" This question comes up so often with any innovation in science, we decided to actually identify just how often, when humans intervene, did they cause the disasters that people fear so much. And yes, your classic stories of humans intervening in nature and causing disasters, like bringing rodents to islands, that stowed away on colonial sailing ships. These invasive species and others have caused greater than 60 percent of the extinctions worldwide since the early 1500s. \n",
    "\n",
    "And then there's the poster child for intentionally releasing the poisonous cane toad to Australia. Back in 1935, the sugar cane industry brought this invasive, poisonous cane toad in to solve their problem with beetles in their crops. It didn't do much for the beetles, and instead, since 1935, it has continued to work its way across Australia, leaving nothing in its wake and killing native species all along the way. \n",
    "\n",
    "These disasters stoke the minds of people about fear of intervention, and yet they happened in an era when there was little regard for the overall environmental ecosystem. And they were done, in some cases, even with profit motivation in mind, they weren't done for conservation benefit. And sadly, we never hear about the success stories. So when we looked at the research about what happens when conservation intend to intervene in nature, we found a very different story. All across the globe, for over a century, scientists have been introducing and reintroducing plants and animals with no environmental harm. \n",
    "\n",
    "You may know the classic success story of introducing wolves to Yellowstone. But that's not the only one. Think about this. Over 1,000 species have been introduced all across North America for the last 125 years. There has been no documented case, except one, of any intervention causing a local extinction. That was a native freshwater fish from a small spring in Alabama. Ninety-nine percent of these interventions have succeeded in achieving their intended consequence. \n",
    "\n",
    "So you may look at this and wonder, if intervention is so common in nature, why aren't we more aware of this? And I think it's because sometimes success is actually invisible to us. Take, for example, this image of the Great Smoky Mountains, America's most visited national park. What we see as pristine wilderness is actually a very managed environment. Those elk you see, they're the result of being absent for 200 years and being reintroduced. That meadow is a result of repeated controlled burns. And non-native insects have been used to control pathogens and invasive pests. \n",
    "\n",
    "And there's one more iconic species that could come back to this forest. That's the American chestnut tree. Historically, this majestic tree rained down sweet nuts and fed humans and animals alike for centuries. For thousands of years, it was the most abundant tree species across the eastern deciduous forest. It's lumber was used to create fine musical instruments and hardwood furniture. And until 1800, there were four billion of these trees across the forest until blight, a fungal blight that came in, imported, invasive species, absolutely wiped out these trees. By 1950, all four billion trees were decimated. \n",
    "\n",
    "Now, since that time, scientists have tried for decades to figure out how to create a blight-resistant chestnut tree. And it's happened. Scientists at the State University of New York have identified a way inserting a single gene from wheat that will convey blight resistance. These genetically modified trees right now are the first chance in 100 years to restore these majestic trees to the forest. The US Department of Agriculture right now is reviewing these trees for release into the wild. \n",
    "\n",
    "These are all bold initiatives. Engineering coral to withstand warming waters, restoring the American chestnut tree, the genetic rescue of the black-footed ferret. All of these initiatives will require public engagement and public support. I think it matters how people think about intervention. I believe we need to bring more balance to how we think about risk. There will always be unexpected outcomes to any innovation in science, but we have the tools and technology today and the protocols to minimize risks and maximize benefits. So the next time you hear about some bold new idea, I hope you'll think first about the intended consequences. We don't have the luxury of time to stand by and wait and see what happens for the thousands of plants and animals at risk today. We know that doing nothing can cause extinction. Instead, let's carefully and intentionally plan with all the tools in the toolbox to achieve and create the future we want and not overreact to a future that we fear. \n",
    "\n",
    "Thank you. \n",
    "\n",
    "(Applause) \n",
    "\n",
    "Chris Anderson: Please stay. I think this is so interesting. It seems to me, at the heart of what you're wrestling with each time is this, you know, it's a moral question. So most moral philosophers, I think, would say that fundamentally, there's not a difference between intentional action and intentional inaction that leads to the same thing. So why is it that in so many areas of public policy and certainly in the environmental movement, there is this huge distinction that people make between action and inaction? They would rather not act and see something go wrong than take the risk of acting. Why? \n",
    "\n",
    "Ryan Phelan: You know, I think it's public pressure that they feel as scientists innovating. They don't want to get it wrong. They have funders that challenged them on taking on innovation and action. They run the risk of losing jobs, funding, security, public shame. It's so much easier for people to stand by and do nothing and not take ownership of it. And I think this is really what we're trying to say, is if we can encourage scientists and innovators to be bold, it will behoove all of us. \n",
    "\n",
    "CA: Right. So one advantage of inaction is just that you're less likely to be blamed. \n",
    "\n",
    "RP: Exactly. You don't get credit either. \n",
    "\n",
    "CA: No. Ryan, these same technologies, synthetic biology and so forth, like in principle, they allow actual de-extinction, species that the planet hasn't seen for years, in principle, we could bring back. Are there any projects you're involved with that excite you or possibly terrify you, where we could see such de-extinction taking place? \n",
    "\n",
    "RP: Well, technically the American chestnut tree is almost extinct. You know, people will see some sprouts come up because the roots are there, but they basically, you know, fail within 15 years. So they're not totally extinct, but they're very close to it. You know, we are working on everything from the woolly mammoth, as some of you may know, to the passenger pigeon. But to me, the most motivating part of these technologies is, de-extinction is just a big, hairy, audacious goal. And if we get there, it'll be grand. But getting there, all of these genetic rescue tools and technology can be applied to save endangered species. It's all a fundamental tool kit. It's essential. \n",
    "\n",
    "CA: Well, Ryan, you're an extremely compelling and persuasive and trustworthy voice, I would say. So thank you so much for the work you're doing and for sharing this. \n",
    "\n",
    "(Applause) \"\"\""
   ]
  },
  {
   "cell_type": "code",
   "execution_count": 127,
   "id": "34c43f46-2d4f-4f1c-9421-ff3edb55b8db",
   "metadata": {},
   "outputs": [
    {
     "data": {
      "text/plain": [
       "'Meet Elizabeth Ann. She\\'s a black-footed ferret, America\\'s most endangered animal. She was cloned using cells from a ferret that lived 33 years ago. Elizabeth Ann is a new hope for the future of her species, a chance to actually restore lost genetic diversity. She was born for this intended consequence. \\n\\nI\\'ve been working in conservation for the last 10 years with innovative scientists from around the world to bring biotechnology to wildlife conservation. We need to solve the escalating threats to biodiversity from climate change, habitat loss, fragmented populations and wildlife diseases. These are the unintended consequences of the human-dominated time we live in. A time when we need new tools for the conservation toolbox and with genetic rescue, we can actually help stop more species from crossing the line into extinction. And the black-footed ferret is a great example. \\n\\nThe black footed-ferret historically ranged all across the Great Plains of North America, from Canada to Mexico. That is, until their habitat was converted to ranches and farmland. By 1981, there was only one colony of ferrets living in Wyoming. They were brought into captivity, and the US Fish and Wildlife Service has successfully been breeding and releasing these individuals back into the wild for the last 30 years. \\n\\nBut all 600 living ferrets today are the descendants of just seven ancestors. And with inbreeding that jeopardizes their long-term survival in the wild. To solve this challenge of a lack of genetic variation, we reached back in time. Luckily, scientists had the foresight. Starting in 1975, Dr. Oliver Ryder and his team at the San Diego Zoo started banking endangered species, and it was with one of these cell lines that we were able to actually bring in a new individual who lived 33 years ago, who had unique genetic variation. Elizabeth Ann is a result of that cloning. She has three times more genetic variation than any living ferret today. And when she breeds in the next couple of years, her offspring will help create greater resilience for her species. \\n\\nNow Elizabeth Ann isn\\'t the only time that we\\'ve done cloning. We’ve worked with the Przewalski’s horses. These are the only true species of wild horse remaining in the world. Historically, they were native to Central Asia, but they roamed all the way from the Pacific to the Atlantic Ocean for centuries. Until they were basically extinct in the wild, with only several horses left in captivity. Conservationists have reintroduced some of those horses since 1960, back into the wild. But all 2,000 horses all living today are again at risk of inbreeding. And many scientists refer to this challenge as the extinction vortex, when small, fragmented populations lose genetic variation and become at risk for the vortex of extinction as their populations dwindle. \\n\\nNow, with genetic rescue, we can reverse this extinction vortex by bringing a new genetic variation and increasing the long-term survival of these populations. And that’s exactly what we did with this Przewalski’s foal named Kurt. That\\'s actually his surrogate mother to the right. She\\'s an American Quarter Horse, a different species. But Kurt\\'s genome is all wild horse. Now, here\\'s Kurt, exactly one year later, this August. He\\'s a wild, healthy, vibrant Przewalski\\'s horse. \\n\\nNow, these genetic rescue stories could not have happened without the collaboration of multiple partners and the tools of biotechnology. Fundamental to all of this is the most essential tool, is genomic sequencing and the power of bringing that information into the light to help the management of these species. In addition, the bio banking, the cell culturing and the in vitro technologies have made this kind of genetic rescue possible. But even these technologies are not widely adopted by conservation. We hope to change that. \\n\\nEmerging technologies of genetic engineering hold the promise of helping species adapt to climate change, solve wildlife disease problems, and even help solve invasive species problems. But very often these technologies never get out of the starting gate because the fear of unintended consequences absolutely stymies even the most basic innovation at the get-go. \\n\\nProbably there\\'s no more urgent need to overcome some of this reluctance to use these technologies than in the case of coral. Coral, as many of you know, are the most diverse and rich ecosystems in the world. They provide a rich biodiversity for reef-dwelling fish and all ocean life. And yet, sadly, 50 percent of the Great Barrier Reef has been lost already to climate change and environmental degradation. Estimates predicts that by 2050, we could lose as much as 90 percent of the coral in the world. \\n\\nThere is hope. Scientists around the world are utilizing new technologies to cryopreserve even living coral fragments that can be transplanted onto artificial reefs. This is just the beginning of some of the work that is pioneering and can happen. I\\'m most excited about the use of the new technologies for developing stem cells. Now these stem cells could be used to actually genome edit in thermal resilience to warming oceans. \\n\\nNow, you may be looking at that and saying, \"Genetically modified corals? What about the unintended consequences?\" This question comes up so often with any innovation in science, we decided to actually identify just how often, when humans intervene, did they cause the disasters that people fear so much. And yes, your classic stories of humans intervening in nature and causing disasters, like bringing rodents to islands, that stowed away on colonial sailing ships. These invasive species and others have caused greater than 60 percent of the extinctions worldwide since the early 1500s. \\n\\nAnd then there\\'s the poster child for intentionally releasing the poisonous cane toad to Australia. Back in 1935, the sugar cane industry brought this invasive, poisonous cane toad in to solve their problem with beetles in their crops. It didn\\'t do much for the beetles, and instead, since 1935, it has continued to work its way across Australia, leaving nothing in its wake and killing native species all along the way. \\n\\nThese disasters stoke the minds of people about fear of intervention, and yet they happened in an era when there was little regard for the overall environmental ecosystem. And they were done, in some cases, even with profit motivation in mind, they weren\\'t done for conservation benefit. And sadly, we never hear about the success stories. So when we looked at the research about what happens when conservation intend to intervene in nature, we found a very different story. All across the globe, for over a century, scientists have been introducing and reintroducing plants and animals with no environmental harm. \\n\\nYou may know the classic success story of introducing wolves to Yellowstone. But that\\'s not the only one. Think about this. Over 1,000 species have been introduced all across North America for the last 125 years. There has been no documented case, except one, of any intervention causing a local extinction. That was a native freshwater fish from a small spring in Alabama. Ninety-nine percent of these interventions have succeeded in achieving their intended consequence. \\n\\nSo you may look at this and wonder, if intervention is so common in nature, why aren\\'t we more aware of this? And I think it\\'s because sometimes success is actually invisible to us. Take, for example, this image of the Great Smoky Mountains, America\\'s most visited national park. What we see as pristine wilderness is actually a very managed environment. Those elk you see, they\\'re the result of being absent for 200 years and being reintroduced. That meadow is a result of repeated controlled burns. And non-native insects have been used to control pathogens and invasive pests. \\n\\nAnd there\\'s one more iconic species that could come back to this forest. That\\'s the American chestnut tree. Historically, this majestic tree rained down sweet nuts and fed humans and animals alike for centuries. For thousands of years, it was the most abundant tree species across the eastern deciduous forest. It\\'s lumber was used to create fine musical instruments and hardwood furniture. And until 1800, there were four billion of these trees across the forest until blight, a fungal blight that came in, imported, invasive species, absolutely wiped out these trees. By 1950, all four billion trees were decimated. \\n\\nNow, since that time, scientists have tried for decades to figure out how to create a blight-resistant chestnut tree. And it\\'s happened. Scientists at the State University of New York have identified a way inserting a single gene from wheat that will convey blight resistance. These genetically modified trees right now are the first chance in 100 years to restore these majestic trees to the forest. The US Department of Agriculture right now is reviewing these trees for release into the wild. \\n\\nThese are all bold initiatives. Engineering coral to withstand warming waters, restoring the American chestnut tree, the genetic rescue of the black-footed ferret. All of these initiatives will require public engagement and public support. I think it matters how people think about intervention. I believe we need to bring more balance to how we think about risk. There will always be unexpected outcomes to any innovation in science, but we have the tools and technology today and the protocols to minimize risks and maximize benefits. So the next time you hear about some bold new idea, I hope you\\'ll think first about the intended consequences. We don\\'t have the luxury of time to stand by and wait and see what happens for the thousands of plants and animals at risk today. We know that doing nothing can cause extinction. Instead, let\\'s carefully and intentionally plan with all the tools in the toolbox to achieve and create the future we want and not overreact to a future that we fear. \\n\\nThank you. \\n\\n(Applause) \\n\\nChris Anderson: Please stay. I think this is so interesting. It seems to me, at the heart of what you\\'re wrestling with each time is this, you know, it\\'s a moral question. So most moral philosophers, I think, would say that fundamentally, there\\'s not a difference between intentional action and intentional inaction that leads to the same thing. So why is it that in so many areas of public policy and certainly in the environmental movement, there is this huge distinction that people make between action and inaction? They would rather not act and see something go wrong than take the risk of acting. Why? \\n\\nRyan Phelan: You know, I think it\\'s public pressure that they feel as scientists innovating. They don\\'t want to get it wrong. They have funders that challenged them on taking on innovation and action. They run the risk of losing jobs, funding, security, public shame. It\\'s so much easier for people to stand by and do nothing and not take ownership of it. And I think this is really what we\\'re trying to say, is if we can encourage scientists and innovators to be bold, it will behoove all of us. \\n\\nCA: Right. So one advantage of inaction is just that you\\'re less likely to be blamed. \\n\\nRP: Exactly. You don\\'t get credit either. \\n\\nCA: No. Ryan, these same technologies, synthetic biology and so forth, like in principle, they allow actual de-extinction, species that the planet hasn\\'t seen for years, in principle, we could bring back. Are there any projects you\\'re involved with that excite you or possibly terrify you, where we could see such de-extinction taking place? \\n\\nRP: Well, technically the American chestnut tree is almost extinct. You know, people will see some sprouts come up because the roots are there, but they basically, you know, fail within 15 years. So they\\'re not totally extinct, but they\\'re very close to it. You know, we are working on everything from the woolly mammoth, as some of you may know, to the passenger pigeon. But to me, the most motivating part of these technologies is, de-extinction is just a big, hairy, audacious goal. And if we get there, it\\'ll be grand. But getting there, all of these genetic rescue tools and technology can be applied to save endangered species. It\\'s all a fundamental tool kit. It\\'s essential. \\n\\nCA: Well, Ryan, you\\'re an extremely compelling and persuasive and trustworthy voice, I would say. So thank you so much for the work you\\'re doing and for sharing this. \\n\\n(Applause) '"
      ]
     },
     "execution_count": 127,
     "metadata": {},
     "output_type": "execute_result"
    }
   ],
   "source": [
    "example_keynote"
   ]
  },
  {
   "cell_type": "code",
   "execution_count": 128,
   "id": "669bc5ef-ced4-42ec-9961-4e78218afec8",
   "metadata": {},
   "outputs": [
    {
     "data": {
      "text/plain": [
       "\"meet Elizabeth Ann be black footed ferret America most endanger animal be clone use cell ferret live year ago Elizabeth Ann be new hope future specie chance actually restore lose genetic diversity be bear intend consequence 've be work conservation last year innovative scientist world bring biotechnology wildlife conservation need solve escalate threat biodiversity climate change habitat loss fragmented population wildlife disease be unintended consequence human dominate time live time when need new tool conservation toolbox genetic rescue actually help stop more specie cross line extinction black footed ferret be great example black footed ferret historically range all Great Plains North America Canada Mexico that is habitat be convert ranch farmland be only colony ferret live Wyoming be bring captivity US Fish Wildlife Service have successfully be breed release individual back wild last year live ferret today be descendant just ancestor inbreeding jeopardize long term survival wild solve challenge lack genetic variation reach back time luckily scientist have foresight start Dr. Oliver Ryder team San Diego Zoo start bank endanger specie be cell line be able actually bring new individual live year ago have unique genetic variation Elizabeth Ann be result cloning have time more genetic variation living ferret today when breed next couple year offspring help create great resilience specie now Elizabeth Ann be only time 've do cloning ’ve work Przewalski horse be only true specie wild horse remain world historically be native Central Asia roam way Pacific Atlantic Ocean century be basically extinct wild only several horse leave captivity conservationist have reintroduce horse back wild horse live today be again risk inbreede many scientist refer challenge extinction vortex when small fragmented population lose genetic variation become risk vortex extinction population dwindle now genetic rescue reverse extinction vortex bring new genetic variation increase long term survival population ’ exactly do Przewalski foal name Kurt be actually surrogate mother right be American Quarter Horse different specie Kurt genome be wild horse now here be Kurt exactly year later August be wild healthy vibrant Przewalski horse now genetic rescue story have happen collaboration multiple partner tool biotechnology fundamental be most essential tool be genomic sequencing power bring information light help management specie addition bio banking cell culturing technology have make kind genetic rescue possible even technology be widely adopt conservation hope change emerge technology genetic engineering hold promise help specie adapt climate change solve wildlife disease problem even help solve invasive specie problem very often technology never get starting gate fear unintended consequence absolutely stymie even most basic innovation get go probably be more urgent need overcome reluctance use technology case coral Coral many know be most diverse rich ecosystem world provide rich biodiversity reef dwell fish ocean life yet sadly percent Great Barrier Reef have be lose already climate change environmental degradation estimate predict lose as much percent coral world be hope scientist world be utilize new technology cryopreserve even live coral fragment be transplant artificial reef be just beginning work be pioneering happen be most excited use new technology develop stem cell now stem cell be use actually genome edit thermal resilience warm ocean now be look say genetically modify coral unintended consequence question come so often innovation science decide actually identify just how often when human intervene do cause disaster people fear so much classic story human intervene nature cause disaster bring rodent island stow away colonial sailing ship invasive specie other have cause great percent extinction worldwide early 1500 then be poster child intentionally release poisonous cane toad Australia back sugar cane industry bring invasive poisonous cane toad solve problem beetle crop do do much beetle instead have continue work way Australia leave wake kill native specie all way disaster stoke mind people fear intervention yet happen era when be little regard overall environmental ecosystem be do case even profit motivation mind be do conservation benefit sadly never hear success story so when look research happen when conservation intend intervene nature find very different story all globe century scientist have be introduce reintroduce plant animal environmental harm know classic success story introduce wolf Yellowstone be only think specie have be introduce all North America last year have be document case intervention cause local extinction be native freshwater fish small spring Alabama percent intervention have succeed achieve intend consequence so look wonder intervention be so common nature why be more aware think be sometimes success be actually invisible take example image Great Smoky Mountains America most visit national park see pristine wilderness be actually very manage environment elk see be result be absent year be reintroduce meadow be result repeat control burn non - native insect have be use control pathogen invasive pest be more iconic specie come back forest be american chestnut tree historically majestic tree rain sweet nut feed human animal alike century thousand year be most abundant tree specie eastern deciduous forest be lumber be use create fine musical instrument hardwood furniture be tree forest blight fungal blight come import invasive specie absolutely wipe tree tree be decimate now time scientist have try decade figure how create blight resistant chestnut tree be happen scientist State University New York have identify way insert single gene wheat convey blight resistance genetically modify tree right now be first chance year restore majestic tree forest US Department Agriculture right now be review tree release wild be bold initiative engineering coral withstand warming water restore american chestnut tree genetic rescue black footed ferret initiative require public engagement public support think matter how people think intervention believe need bring more balance how think risk always be unexpected outcome innovation science have tool technology today protocol minimize risk maximize benefit so next time hear bold new idea hope think first intend consequence do have luxury time stand wait see happen thousand plant animal risk today know do cause extinction instead let carefully intentionally plan tool toolbox achieve create future want overreact future fear thank applause Chris Anderson stay think be so interesting seem heart be wrestle time be know be moral question so most moral philosopher think say fundamentally be difference intentional action intentional inaction lead same thing so why be so many area public policy certainly environmental movement be huge distinction people make action inaction rather act see go wrong take risk act why Ryan Phelan know think be public pressure feel scientist innovate do want get wrong have funder challenge take innovation action run risk lose job funding security public shame be so much easy people stand do take ownership think be really be try say be encourage scientist innovator be bold behoove CA so advantage inaction be just be less likely be blame rp exactly do get credit either CA Ryan same technology synthetic biology so forth principle allow actual de - extinction specie planet have see year principle bring back be project be involve excite possibly terrify where see such de - extinction take place rp technically american chestnut tree be almost extinct know people see sprout come root be there basically know fail year so be totally extinct be very close know be work woolly mammoth know passenger pigeon most motivating part technology be de - extinction be just big hairy audacious goal get there be grand get there genetic rescue tool technology be apply save endangered specie be fundamental tool kit be essential CA Ryan be extremely compelling persuasive trustworthy voice say so thank so much work be do share applause\""
      ]
     },
     "execution_count": 128,
     "metadata": {},
     "output_type": "execute_result"
    }
   ],
   "source": [
    "clean_text(example_keynote)"
   ]
  },
  {
   "cell_type": "code",
   "execution_count": 73,
   "id": "3624ac6f-2e7d-423e-a8d1-eb25cf6d680e",
   "metadata": {},
   "outputs": [],
   "source": [
    "import pickle\n",
    "import pandas as pd\n",
    "import numpy as np\n",
    "from sklearn.feature_extraction.text import CountVectorizer\n",
    "from sklearn.linear_model import LogisticRegression\n",
    "from sklearn.model_selection import cross_val_score\n",
    "from sklearn.model_selection import GridSearchCV\n",
    "from sklearn.calibration import CalibratedClassifierCV\n",
    "from sklearn.model_selection import train_test_split\n",
    "from sklearn.feature_extraction.text import TfidfVectorizer\n",
    "from sklearn.feature_selection import SelectKBest\n",
    "from sklearn.feature_selection import chi2"
   ]
  },
  {
   "cell_type": "code",
   "execution_count": 129,
   "id": "1f4ac1d8-394f-4373-90e9-e8dabe474731",
   "metadata": {},
   "outputs": [
    {
     "name": "stderr",
     "output_type": "stream",
     "text": [
      "/Users/haibui/00_MIT_Harvard_CS_DS/streamlit/projects/penguins/penguins_env/lib/python3.7/site-packages/sklearn/base.py:315: UserWarning: Trying to unpickle estimator TfidfTransformer from version 0.22.2.post1 when using version 0.24.2. This might lead to breaking code or invalid results. Use at your own risk.\n",
      "  UserWarning)\n",
      "/Users/haibui/00_MIT_Harvard_CS_DS/streamlit/projects/penguins/penguins_env/lib/python3.7/site-packages/sklearn/base.py:315: UserWarning: Trying to unpickle estimator TfidfVectorizer from version 0.22.2.post1 when using version 0.24.2. This might lead to breaking code or invalid results. Use at your own risk.\n",
      "  UserWarning)\n"
     ]
    }
   ],
   "source": [
    "with open ('ted_X_transcript_vectorizer.pkl', 'rb') as trans_vectorizer_file:\n",
    "    transcript_vectorizer = pickle.load(trans_vectorizer_file)"
   ]
  },
  {
   "cell_type": "code",
   "execution_count": 133,
   "id": "b078c704-5072-4d71-a6f1-7097903d88c2",
   "metadata": {},
   "outputs": [],
   "source": [
    "example_keynote_raw = pd.Series(example_keynote)\n",
    "example_keynote_clean = pd.Series(clean_text(example_keynote))"
   ]
  },
  {
   "cell_type": "code",
   "execution_count": 134,
   "id": "d0b48a0a-adfc-4138-b840-db3fe6a573db",
   "metadata": {},
   "outputs": [],
   "source": [
    "X_new = transcript_vectorizer.transform(example_keynote_raw)\n",
    "X_new_clean = transcript_vectorizer.transform(example_keynote_clean)\n",
    "\n",
    "#print(X_new.shape)"
   ]
  },
  {
   "cell_type": "code",
   "execution_count": 135,
   "id": "7ed850c3-cf8b-4cbe-84b2-1433f92f7386",
   "metadata": {},
   "outputs": [
    {
     "name": "stderr",
     "output_type": "stream",
     "text": [
      "/Users/haibui/00_MIT_Harvard_CS_DS/streamlit/projects/penguins/penguins_env/lib/python3.7/site-packages/sklearn/base.py:315: UserWarning: Trying to unpickle estimator SelectKBest from version 0.22.2.post1 when using version 0.24.2. This might lead to breaking code or invalid results. Use at your own risk.\n",
      "  UserWarning)\n"
     ]
    }
   ],
   "source": [
    "with open ('ted_X_transcript_selector.pkl', 'rb') as trans_selector_file:\n",
    "    transcript_selector = pickle.load(trans_selector_file)"
   ]
  },
  {
   "cell_type": "code",
   "execution_count": 136,
   "id": "d145d473-d5f4-4124-884b-24c8dd81dd5d",
   "metadata": {},
   "outputs": [
    {
     "name": "stdout",
     "output_type": "stream",
     "text": [
      "(1, 900)\n"
     ]
    }
   ],
   "source": [
    "X_sel = transcript_selector.transform(X_new)\n",
    "X_sel_clean = transcript_selector.transform(X_new_clean)\n",
    "print(X_sel.shape)"
   ]
  },
  {
   "cell_type": "code",
   "execution_count": 137,
   "id": "3ec210ed-4fc1-429b-9337-b6e07249df52",
   "metadata": {},
   "outputs": [
    {
     "name": "stderr",
     "output_type": "stream",
     "text": [
      "/Users/haibui/00_MIT_Harvard_CS_DS/streamlit/projects/penguins/penguins_env/lib/python3.7/site-packages/sklearn/base.py:315: UserWarning: Trying to unpickle estimator LogisticRegression from version 0.22.2.post1 when using version 0.24.2. This might lead to breaking code or invalid results. Use at your own risk.\n",
      "  UserWarning)\n"
     ]
    }
   ],
   "source": [
    "with open ('ted_transcript.pkl', 'rb') as trans_model_file:\n",
    "    transcript_model = pickle.load(trans_model_file)"
   ]
  },
  {
   "cell_type": "code",
   "execution_count": 138,
   "id": "eb181c22-2047-485a-8f8b-4cfd69903a08",
   "metadata": {},
   "outputs": [],
   "source": [
    "trans_prediction = transcript_model.predict(X_sel)\n",
    "trans_pred_proba = transcript_model.predict_proba(X_sel)\n",
    "trans_prediction_clean = transcript_model.predict(X_sel_clean)\n",
    "trans_pred_proba_clean = transcript_model.predict_proba(X_sel_clean)"
   ]
  },
  {
   "cell_type": "code",
   "execution_count": 139,
   "id": "75fe8006-cb56-4501-b58e-619ea7aeb891",
   "metadata": {},
   "outputs": [
    {
     "data": {
      "text/plain": [
       "(array([1]), array([[0.42391125, 0.57608875]]))"
      ]
     },
     "execution_count": 139,
     "metadata": {},
     "output_type": "execute_result"
    }
   ],
   "source": [
    "trans_prediction, trans_pred_proba"
   ]
  },
  {
   "cell_type": "code",
   "execution_count": 140,
   "id": "f71b2241-fc83-431c-8ffd-2077d31e0c49",
   "metadata": {},
   "outputs": [
    {
     "data": {
      "text/plain": [
       "(array([1]), array([[0.47692414, 0.52307586]]))"
      ]
     },
     "execution_count": 140,
     "metadata": {},
     "output_type": "execute_result"
    }
   ],
   "source": [
    "trans_prediction_clean, trans_pred_proba_clean"
   ]
  },
  {
   "cell_type": "markdown",
   "id": "8e4a1d22-58f3-4698-a869-b6839d06f7b7",
   "metadata": {},
   "source": [
    "## Prediction on Tags"
   ]
  },
  {
   "cell_type": "code",
   "execution_count": 92,
   "id": "f45c2ade-9a1f-4070-ba08-a63f7a1c3f1c",
   "metadata": {},
   "outputs": [],
   "source": [
    "with open ('ted_X_tags_vectorizer.pkl', 'rb') as tags_vectorizer_file:\n",
    "    tags_vectorizer = pickle.load(tags_vectorizer_file)"
   ]
  },
  {
   "cell_type": "code",
   "execution_count": 106,
   "id": "4c3f47f2-30d9-49b0-8ba7-a3c583c016ee",
   "metadata": {},
   "outputs": [],
   "source": [
    "example_tags_2 = \"\"\"    climate change\n",
    "    Anthropocene\n",
    "    nature\n",
    "    biosphere\n",
    "    science\n",
    "    social change\n",
    "    energy\n",
    "    sustainability\n",
    "    pollution\n",
    "    education\n",
    "    potential\n",
    "    electricity\n",
    "    global issues\n",
    "    food\n",
    "    policy\"\"\""
   ]
  },
  {
   "cell_type": "code",
   "execution_count": 107,
   "id": "5a06908f-45e4-4b93-9525-2daebc41a39c",
   "metadata": {},
   "outputs": [
    {
     "name": "stdout",
     "output_type": "stream",
     "text": [
      "climate_change\n",
      "anthropocene\n",
      "nature\n",
      "biosphere\n",
      "science\n",
      "social_change\n",
      "energy\n",
      "sustainability\n",
      "pollution\n",
      "education\n",
      "potential\n",
      "electricity\n",
      "global_issues\n",
      "food\n",
      "policy\n"
     ]
    },
    {
     "data": {
      "text/plain": [
       "['climate_change',\n",
       " 'anthropocene',\n",
       " 'nature',\n",
       " 'biosphere',\n",
       " 'science',\n",
       " 'social_change',\n",
       " 'energy',\n",
       " 'sustainability',\n",
       " 'pollution',\n",
       " 'education',\n",
       " 'potential',\n",
       " 'electricity',\n",
       " 'global_issues',\n",
       " 'food',\n",
       " 'policy']"
      ]
     },
     "execution_count": 107,
     "metadata": {},
     "output_type": "execute_result"
    }
   ],
   "source": [
    "example_tags = \"\"\"   climate change\n",
    "    animals\n",
    "    environment\n",
    "    biology\n",
    "    genetics\n",
    "    synthetic biology\n",
    "    conservation\n",
    "    biotech\"\"\"\n",
    "#print(example_tags)\n",
    "example_tags_clean = clean_tags(example_tags_2)\n",
    "example_tags_clean"
   ]
  },
  {
   "cell_type": "code",
   "execution_count": 108,
   "id": "d79e6a48-d9cc-40b4-a5b5-02075d3905be",
   "metadata": {},
   "outputs": [
    {
     "data": {
      "text/plain": [
       "['climate_change',\n",
       " 'anthropocene',\n",
       " 'nature',\n",
       " 'biosphere',\n",
       " 'science',\n",
       " 'social_change',\n",
       " 'energy',\n",
       " 'sustainability',\n",
       " 'pollution',\n",
       " 'education',\n",
       " 'potential',\n",
       " 'electricity',\n",
       " 'global_issues',\n",
       " 'food',\n",
       " 'policy']"
      ]
     },
     "execution_count": 108,
     "metadata": {},
     "output_type": "execute_result"
    }
   ],
   "source": [
    "example_tags_clean"
   ]
  },
  {
   "cell_type": "code",
   "execution_count": 109,
   "id": "dc18c863-128a-4929-9947-ab2ba84a39b9",
   "metadata": {},
   "outputs": [
    {
     "name": "stdout",
     "output_type": "stream",
     "text": [
      "(1, 403)\n"
     ]
    }
   ],
   "source": [
    "example_tags = pd.Series(' '.join(example_tags_clean))\n",
    "\n",
    "X_tags = tags_vectorizer.transform(example_tags)\n",
    "\n",
    "print(X_tags.shape)"
   ]
  },
  {
   "cell_type": "code",
   "execution_count": 110,
   "id": "af687e7c-e7c1-4d93-9db9-cca99ee129db",
   "metadata": {},
   "outputs": [
    {
     "name": "stdout",
     "output_type": "stream",
     "text": [
      "(1, 345)\n"
     ]
    },
    {
     "name": "stderr",
     "output_type": "stream",
     "text": [
      "/Users/haibui/00_MIT_Harvard_CS_DS/streamlit/projects/penguins/penguins_env/lib/python3.7/site-packages/sklearn/base.py:315: UserWarning: Trying to unpickle estimator SelectKBest from version 0.22.2.post1 when using version 0.24.2. This might lead to breaking code or invalid results. Use at your own risk.\n",
      "  UserWarning)\n"
     ]
    }
   ],
   "source": [
    "with open ('ted_X_tags_selector.pkl', 'rb') as tags_selector_file:\n",
    "    tags_selector = pickle.load(tags_selector_file)\n",
    "\n",
    "X_sel_tags = tags_selector.transform(X_tags)\n",
    "\n",
    "print(X_sel_tags.shape)"
   ]
  },
  {
   "cell_type": "code",
   "execution_count": 112,
   "id": "4707b849-971c-4d08-9d60-7807a1a2a7a1",
   "metadata": {},
   "outputs": [
    {
     "data": {
      "text/plain": [
       "(array([1]), array([[0.26981728, 0.73018272]]))"
      ]
     },
     "execution_count": 112,
     "metadata": {},
     "output_type": "execute_result"
    }
   ],
   "source": [
    "with open ('ted_tags.pkl', 'rb') as tags_model_file:\n",
    "\n",
    "    tags_model = pickle.load(tags_model_file)\n",
    "\n",
    "tags_prediction = tags_model.predict(X_sel_tags)\n",
    "\n",
    "tags_pred_proba = tags_model.predict_proba(X_sel_tags)\n",
    "\n",
    "tags_prediction, tags_pred_proba"
   ]
  },
  {
   "cell_type": "code",
   "execution_count": 118,
   "id": "a2e2cb7f-8e00-4c8b-9326-9aae937e8c3b",
   "metadata": {},
   "outputs": [
    {
     "data": {
      "text/plain": [
       "0.5"
      ]
     },
     "execution_count": 118,
     "metadata": {},
     "output_type": "execute_result"
    }
   ],
   "source": [
    "max([0.5, 0.5])"
   ]
  },
  {
   "cell_type": "code",
   "execution_count": 119,
   "id": "9333fafe-2ede-4a19-9365-f20f65a5daec",
   "metadata": {},
   "outputs": [],
   "source": [
    "def ensemble_prediction(trans_pred_proba, tags_pred_proba):\n",
    "    avg_pred = (trans_pred_proba[0] + tags_pred_proba[0]) / 2\n",
    "    if max(avg_pred) == avg_pred[1]:\n",
    "        return (1, avg_pred)\n",
    "    else:\n",
    "        return 0, avg_pred"
   ]
  },
  {
   "cell_type": "code",
   "execution_count": 121,
   "id": "46af2634-2dea-45aa-9b39-ae5f3ad520ec",
   "metadata": {},
   "outputs": [
    {
     "data": {
      "text/plain": [
       "1"
      ]
     },
     "execution_count": 121,
     "metadata": {},
     "output_type": "execute_result"
    }
   ],
   "source": [
    "ensemble_prediction(trans_pred_proba, tags_pred_proba)"
   ]
  },
  {
   "cell_type": "code",
   "execution_count": null,
   "id": "ba8cee95-662d-46cc-be73-eed3c1b774b2",
   "metadata": {},
   "outputs": [],
   "source": []
  }
 ],
 "metadata": {
  "kernelspec": {
   "display_name": "Python 3 (ipykernel)",
   "language": "python",
   "name": "python3"
  },
  "language_info": {
   "codemirror_mode": {
    "name": "ipython",
    "version": 3
   },
   "file_extension": ".py",
   "mimetype": "text/x-python",
   "name": "python",
   "nbconvert_exporter": "python",
   "pygments_lexer": "ipython3",
   "version": "3.7.7"
  }
 },
 "nbformat": 4,
 "nbformat_minor": 5
}
